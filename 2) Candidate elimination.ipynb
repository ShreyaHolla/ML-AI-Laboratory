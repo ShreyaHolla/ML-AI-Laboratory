{
 "cells": [
  {
   "cell_type": "markdown",
   "metadata": {},
   "source": [
    "## Experiment - 2 Candidate Elimination Algorithm"
   ]
  },
  {
   "cell_type": "code",
   "execution_count": 24,
   "metadata": {},
   "outputs": [
    {
     "name": "stdout",
     "output_type": "stream",
     "text": [
      "     Sky AirTemp Humidity    Wind Water Forecast EnjoySport\n",
      "0  Sunny    Warm   Normal  Strong  Warm     Same        Yes\n",
      "1  Sunny    Warm     High  Strong  Warm     Same        Yes\n",
      "2  Rainy    Cold     High  Strong  Warm   Change         No\n",
      "3  Sunny    Warm     High  Strong  Cool   Change        Yes\n"
     ]
    }
   ],
   "source": [
    "import numpy as np\n",
    "import pandas as pd\n",
    "\n",
    "data = pd.read_csv(\"/Users/shreya/Desktop/SVIT/STUDY_MATERIALS/7th sem/ML & AI/edit_candidate_elimination.csv\")\n",
    "print(data)"
   ]
  },
  {
   "cell_type": "code",
   "execution_count": 25,
   "metadata": {},
   "outputs": [],
   "source": [
    "data = pd.DataFrame(data)"
   ]
  },
  {
   "cell_type": "code",
   "execution_count": 26,
   "metadata": {},
   "outputs": [
    {
     "data": {
      "text/html": [
       "<div>\n",
       "<style scoped>\n",
       "    .dataframe tbody tr th:only-of-type {\n",
       "        vertical-align: middle;\n",
       "    }\n",
       "\n",
       "    .dataframe tbody tr th {\n",
       "        vertical-align: top;\n",
       "    }\n",
       "\n",
       "    .dataframe thead th {\n",
       "        text-align: right;\n",
       "    }\n",
       "</style>\n",
       "<table border=\"1\" class=\"dataframe\">\n",
       "  <thead>\n",
       "    <tr style=\"text-align: right;\">\n",
       "      <th></th>\n",
       "      <th>Sky</th>\n",
       "      <th>AirTemp</th>\n",
       "      <th>Humidity</th>\n",
       "      <th>Wind</th>\n",
       "      <th>Water</th>\n",
       "      <th>Forecast</th>\n",
       "      <th>EnjoySport</th>\n",
       "    </tr>\n",
       "  </thead>\n",
       "  <tbody>\n",
       "    <tr>\n",
       "      <th>0</th>\n",
       "      <td>Sunny</td>\n",
       "      <td>Warm</td>\n",
       "      <td>Normal</td>\n",
       "      <td>Strong</td>\n",
       "      <td>Warm</td>\n",
       "      <td>Same</td>\n",
       "      <td>Yes</td>\n",
       "    </tr>\n",
       "    <tr>\n",
       "      <th>1</th>\n",
       "      <td>Sunny</td>\n",
       "      <td>Warm</td>\n",
       "      <td>High</td>\n",
       "      <td>Strong</td>\n",
       "      <td>Warm</td>\n",
       "      <td>Same</td>\n",
       "      <td>Yes</td>\n",
       "    </tr>\n",
       "    <tr>\n",
       "      <th>2</th>\n",
       "      <td>Rainy</td>\n",
       "      <td>Cold</td>\n",
       "      <td>High</td>\n",
       "      <td>Strong</td>\n",
       "      <td>Warm</td>\n",
       "      <td>Change</td>\n",
       "      <td>No</td>\n",
       "    </tr>\n",
       "    <tr>\n",
       "      <th>3</th>\n",
       "      <td>Sunny</td>\n",
       "      <td>Warm</td>\n",
       "      <td>High</td>\n",
       "      <td>Strong</td>\n",
       "      <td>Cool</td>\n",
       "      <td>Change</td>\n",
       "      <td>Yes</td>\n",
       "    </tr>\n",
       "  </tbody>\n",
       "</table>\n",
       "</div>"
      ],
      "text/plain": [
       "     Sky AirTemp Humidity    Wind Water Forecast EnjoySport\n",
       "0  Sunny    Warm   Normal  Strong  Warm     Same        Yes\n",
       "1  Sunny    Warm     High  Strong  Warm     Same        Yes\n",
       "2  Rainy    Cold     High  Strong  Warm   Change         No\n",
       "3  Sunny    Warm     High  Strong  Cool   Change        Yes"
      ]
     },
     "execution_count": 26,
     "metadata": {},
     "output_type": "execute_result"
    }
   ],
   "source": [
    "data.head()"
   ]
  },
  {
   "cell_type": "code",
   "execution_count": 27,
   "metadata": {},
   "outputs": [
    {
     "name": "stdout",
     "output_type": "stream",
     "text": [
      "[['Sunny' 'Warm' 'Normal' 'Strong' 'Warm' 'Same']\n",
      " ['Sunny' 'Warm' 'High' 'Strong' 'Warm' 'Same']\n",
      " ['Rainy' 'Cold' 'High' 'Strong' 'Warm' 'Change']\n",
      " ['Sunny' 'Warm' 'High' 'Strong' 'Cool' 'Change']]\n"
     ]
    }
   ],
   "source": [
    "concepts = np.array(data.iloc[:,0:-1])\n",
    "print(concepts)"
   ]
  },
  {
   "cell_type": "code",
   "execution_count": 28,
   "metadata": {},
   "outputs": [
    {
     "name": "stdout",
     "output_type": "stream",
     "text": [
      "['Yes' 'Yes' 'No' 'Yes']\n"
     ]
    }
   ],
   "source": [
    "target = np.array(data.iloc[:,-1])\n",
    "print(target)"
   ]
  },
  {
   "cell_type": "code",
   "execution_count": 31,
   "metadata": {},
   "outputs": [
    {
     "name": "stdout",
     "output_type": "stream",
     "text": [
      "initialization of specific_h and general_h\n",
      "['Sunny' 'Warm' 'Normal' 'Strong' 'Warm' 'Same']\n",
      "[['?', '?', '?', '?', '?', '?'], ['?', '?', '?', '?', '?', '?'], ['?', '?', '?', '?', '?', '?'], ['?', '?', '?', '?', '?', '?'], ['?', '?', '?', '?', '?', '?'], ['?', '?', '?', '?', '?', '?']]\n",
      "For Loop Starts\n",
      "If instance is positive\n",
      "steps of candidate elimination algorithm 1\n",
      "['Sunny' 'Warm' 'Normal' 'Strong' 'Warm' 'Same']\n",
      "[['?', '?', '?', '?', '?', '?'], ['?', '?', '?', '?', '?', '?'], ['?', '?', '?', '?', '?', '?'], ['?', '?', '?', '?', '?', '?'], ['?', '?', '?', '?', '?', '?'], ['?', '?', '?', '?', '?', '?']]\n",
      "\n",
      "\n",
      "\n",
      "\n",
      "For Loop Starts\n",
      "If instance is positive\n",
      "steps of candidate elimination algorithm 2\n",
      "['Sunny' 'Warm' '?' 'Strong' 'Warm' 'Same']\n",
      "[['?', '?', '?', '?', '?', '?'], ['?', '?', '?', '?', '?', '?'], ['?', '?', '?', '?', '?', '?'], ['?', '?', '?', '?', '?', '?'], ['?', '?', '?', '?', '?', '?'], ['?', '?', '?', '?', '?', '?']]\n",
      "\n",
      "\n",
      "\n",
      "\n",
      "For Loop Starts\n",
      "If instance is Negative\n",
      "steps of candidate elimination algorithm 3\n",
      "['Sunny' 'Warm' '?' 'Strong' 'Warm' 'Same']\n",
      "[['Sunny', '?', '?', '?', '?', '?'], ['?', 'Warm', '?', '?', '?', '?'], ['?', '?', '?', '?', '?', '?'], ['?', '?', '?', '?', '?', '?'], ['?', '?', '?', '?', '?', '?'], ['?', '?', '?', '?', '?', 'Same']]\n",
      "\n",
      "\n",
      "\n",
      "\n",
      "For Loop Starts\n",
      "If instance is positive\n",
      "steps of candidate elimination algorithm 4\n",
      "['Sunny' 'Warm' '?' 'Strong' '?' '?']\n",
      "[['Sunny', '?', '?', '?', '?', '?'], ['?', 'Warm', '?', '?', '?', '?'], ['?', '?', '?', '?', '?', '?'], ['?', '?', '?', '?', '?', '?'], ['?', '?', '?', '?', '?', '?'], ['?', '?', '?', '?', '?', '?']]\n",
      "\n",
      "\n",
      "\n",
      "\n",
      "Final Specific_h:\n",
      "['Sunny' 'Warm' '?' 'Strong' '?' '?']\n",
      "Final General_h:\n",
      "[['Sunny', '?', '?', '?', '?', '?'], ['?', 'Warm', '?', '?', '?', '?']]\n"
     ]
    }
   ],
   "source": [
    "def learn(concepts,target):\n",
    "    specific_h = concepts[0].copy()\n",
    "    print(\"initialization of specific_h and general_h\")\n",
    "    print(specific_h)\n",
    "    general_h=[[\"?\" for i in range(len(specific_h))] for i in range(len(specific_h))]\n",
    "    print(general_h)\n",
    "    \n",
    "    for i,h in enumerate(concepts):\n",
    "        print(\"For Loop Starts\")\n",
    "        if(target[i]==\"Yes\"):\n",
    "            print(\"If instance is positive\")\n",
    "            for x in range(len(specific_h)):\n",
    "                if(h[x]!=specific_h[x]):\n",
    "                    specific_h[x]=\"?\"\n",
    "                    general_h[x][x]=\"?\"\n",
    "                    \n",
    "        if(target[i]==\"No\"):\n",
    "            print(\"If instance is Negative\")\n",
    "            for x in range(len(specific_h)):\n",
    "                if(h[x]!=specific_h[x]):\n",
    "                    general_h[x][x]=specific_h[x]\n",
    "                else:\n",
    "                    general_h[x][x]='?'\n",
    "                \n",
    "        print(\"steps of candidate elimination algorithm\",i+1)\n",
    "        print(specific_h)\n",
    "        print(general_h)\n",
    "        print(\"\\n\")\n",
    "        print(\"\\n\")\n",
    "    \n",
    "    indices = [i for i,val in enumerate(general_h) if val==['?','?','?','?','?','?']]\n",
    "    for i in indices:\n",
    "        general_h.remove(['?','?','?','?','?','?'])\n",
    "    return specific_h,general_h\n",
    "\n",
    "\n",
    "s_final,g_final=learn(concepts,target)\n",
    "\n",
    "print(\"Final Specific_h:\",s_final,sep=\"\\n\")\n",
    "print(\"Final General_h:\",g_final,sep=\"\\n\")"
   ]
  },
  {
   "cell_type": "code",
   "execution_count": null,
   "metadata": {},
   "outputs": [],
   "source": []
  }
 ],
 "metadata": {
  "kernelspec": {
   "display_name": "Python 3",
   "language": "python",
   "name": "python3"
  },
  "language_info": {
   "codemirror_mode": {
    "name": "ipython",
    "version": 3
   },
   "file_extension": ".py",
   "mimetype": "text/x-python",
   "name": "python",
   "nbconvert_exporter": "python",
   "pygments_lexer": "ipython3",
   "version": "3.7.6"
  }
 },
 "nbformat": 4,
 "nbformat_minor": 4
}
