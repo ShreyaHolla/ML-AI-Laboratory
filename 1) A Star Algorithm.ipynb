{
 "cells": [
  {
   "cell_type": "code",
   "execution_count": 12,
   "metadata": {},
   "outputs": [
    {
     "name": "stdout",
     "output_type": "stream",
     "text": [
      "Path found ['A', 'E', 'D', 'G']\n"
     ]
    },
    {
     "data": {
      "text/plain": [
       "['A', 'E', 'D', 'G']"
      ]
     },
     "execution_count": 12,
     "metadata": {},
     "output_type": "execute_result"
    }
   ],
   "source": [
    "def aStarAlgo(start_node,stop_node):\n",
    "    open_set = set(start_node)\n",
    "    closed_set = set()\n",
    "    g={}                              #stores dist from starting node\n",
    "    parents = {}                      #parents containing an adjacency map\n",
    "    g[start_node]=0                   #dist of start node to itself is 0\n",
    "    parents[start_node] = start_node  #start node is root node, so start node is set to its own parent node\n",
    "    \n",
    "    while len(open_set)>0:\n",
    "        n = None\n",
    "        for v in open_set:            #node with lowest f() is found\n",
    "            if(n == None or g[v] + heu(v)< g[n]+heu(n)):\n",
    "                n = v\n",
    "        \n",
    "        if( n == stop_node or Graph_nodes[n] == None):\n",
    "            pass\n",
    "        else:\n",
    "            for(m,weight) in get_neighbors(n):\n",
    "                if(m not in open_set and m not in closed_set):\n",
    "                    open_set.add(m)\n",
    "                    parents[m] = n\n",
    "                    g[m] = g[n] + weight\n",
    "                    \n",
    "                else:\n",
    "                    if(g[m] > g[n] + weight):\n",
    "                        g[m] = g[n] + weight\n",
    "                        parents[m] = n\n",
    "                        if(m in closed_set):\n",
    "                            closed_set.remove(m)\n",
    "                            open_set.add(m)\n",
    "                            \n",
    "        if(n==None):\n",
    "            print(\"Path doesnt exist\")\n",
    "            return None\n",
    "        \n",
    "        \n",
    "        if(n == stop_node):\n",
    "            path = []\n",
    "            while(parents[n] != n):\n",
    "                path.append(n)\n",
    "                n = parents[n]\n",
    "            path.append(start_node)\n",
    "            path.reverse()\n",
    "            print(\"Path found {}\".format(path))\n",
    "            return path\n",
    "        \n",
    "        open_set.remove(n)\n",
    "        closed_set.add(n)\n",
    "        \n",
    "    print(\"Path doesnt exist\")\n",
    "    return None\n",
    "\n",
    "\n",
    "\n",
    "def get_neighbors(v):\n",
    "    if(v in Graph_nodes):\n",
    "        return Graph_nodes[v]\n",
    "    \n",
    "    else:\n",
    "        return None\n",
    "    \n",
    "    \n",
    "def heu(n):\n",
    "    H_dist = {'A':11,'B':6,'C':99,'D':1,'E':7,'G':0}\n",
    "    return H_dist[n]\n",
    "\n",
    "Graph_nodes = {'A':[('B',2),('E',3)],\n",
    "               'B':[('C',1),('G',9)],\n",
    "               'C':None,\n",
    "               'D':[('G',1)],\n",
    "               'E':[('D',6)]\n",
    "              }\n",
    "                    \n",
    "    \n",
    "aStarAlgo('A','G')"
   ]
  },
  {
   "cell_type": "code",
   "execution_count": null,
   "metadata": {},
   "outputs": [],
   "source": []
  },
  {
   "cell_type": "code",
   "execution_count": null,
   "metadata": {},
   "outputs": [],
   "source": []
  }
 ],
 "metadata": {
  "kernelspec": {
   "display_name": "Python 3",
   "language": "python",
   "name": "python3"
  },
  "language_info": {
   "codemirror_mode": {
    "name": "ipython",
    "version": 3
   },
   "file_extension": ".py",
   "mimetype": "text/x-python",
   "name": "python",
   "nbconvert_exporter": "python",
   "pygments_lexer": "ipython3",
   "version": "3.7.6"
  }
 },
 "nbformat": 4,
 "nbformat_minor": 4
}
